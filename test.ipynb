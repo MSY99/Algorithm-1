{
 "cells": [
  {
   "cell_type": "code",
   "execution_count": 29,
   "metadata": {},
   "outputs": [],
   "source": [
    "def maxProfit(prices):\n",
    "    ans = 0\n",
    "    tmp_list = []\n",
    "\n",
    "    for i in range(len(prices)):\n",
    "        cnt = i+1\n",
    "        current = prices[i]\n",
    "        for j in range(len(prices)-cnt):\n",
    "            profit = prices[cnt] - current\n",
    "            tmp_list.append(profit)\n",
    "            cnt += 1\n",
    "        \n",
    "    ans = max(tmp_list)\n",
    "    print(tmp_list)\n",
    "    ans = max(ans, 0)\n",
    "    return ans"
   ]
  },
  {
   "cell_type": "code",
   "execution_count": 31,
   "metadata": {},
   "outputs": [
    {
     "name": "stdout",
     "output_type": "stream",
     "text": [
      "[-6, -2, -4, -1, -3, 4, 2, 5, 3, -2, 1, -1, 3, 1, -2]\n",
      "5\n"
     ]
    }
   ],
   "source": [
    "sample = [7,1,5,3,6,4]\n",
    "print(maxProfit(sample))"
   ]
  },
  {
   "cell_type": "code",
   "execution_count": null,
   "metadata": {},
   "outputs": [],
   "source": []
  }
 ],
 "metadata": {
  "kernelspec": {
   "display_name": "Python 3",
   "language": "python",
   "name": "python3"
  },
  "language_info": {
   "codemirror_mode": {
    "name": "ipython",
    "version": 3
   },
   "file_extension": ".py",
   "mimetype": "text/x-python",
   "name": "python",
   "nbconvert_exporter": "python",
   "pygments_lexer": "ipython3",
   "version": "3.9.13"
  }
 },
 "nbformat": 4,
 "nbformat_minor": 2
}
